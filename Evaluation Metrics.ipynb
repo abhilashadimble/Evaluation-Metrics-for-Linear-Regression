{
 "cells": [
  {
   "cell_type": "markdown",
   "metadata": {},
   "source": [
    "<h2>R-squared</h2>\n",
    "<img src=\"1.png\" style=\"margin:10px\">\n",
    "<h2>Adjusted R-squared</h2>\n",
    "<img src=\"2.png\" style=\"margin:10px\">"
   ]
  },
  {
   "cell_type": "code",
   "execution_count": 1,
   "metadata": {},
   "outputs": [
    {
     "name": "stdout",
     "output_type": "stream",
     "text": [
      "                            OLS Regression Results                            \n",
      "==============================================================================\n",
      "Dep. Variable:           num_articles   R-squared:                       0.818\n",
      "Model:                            OLS   Adj. R-squared:                  0.792\n",
      "Method:                 Least Squares   F-statistic:                     31.55\n",
      "Date:                Thu, 16 Jan 2020   Prob (F-statistic):           0.000802\n",
      "Time:                        00:58:11   Log-Likelihood:                -7.0819\n",
      "No. Observations:                   9   AIC:                             18.16\n",
      "Df Residuals:                       7   BIC:                             18.56\n",
      "Df Model:                           1                                         \n",
      "Covariance Type:            nonrobust                                         \n",
      "==============================================================================\n",
      "                 coef    std err          t      P>|t|      [0.025      0.975]\n",
      "------------------------------------------------------------------------------\n",
      "const          2.7345      0.672      4.072      0.005       1.147       4.322\n",
      "free_time      0.0441      0.008      5.617      0.001       0.026       0.063\n",
      "==============================================================================\n",
      "Omnibus:                        1.127   Durbin-Watson:                   2.415\n",
      "Prob(Omnibus):                  0.569   Jarque-Bera (JB):                0.791\n",
      "Skew:                          -0.450   Prob(JB):                        0.673\n",
      "Kurtosis:                       1.860   Cond. No.                         286.\n",
      "==============================================================================\n",
      "\n",
      "Warnings:\n",
      "[1] Standard Errors assume that the covariance matrix of the errors is correctly specified.\n"
     ]
    },
    {
     "name": "stderr",
     "output_type": "stream",
     "text": [
      "C:\\Users\\Admin\\Anaconda3\\lib\\site-packages\\scipy\\stats\\stats.py:1394: UserWarning: kurtosistest only valid for n>=20 ... continuing anyway, n=9\n",
      "  \"anyway, n=%i\" % int(n))\n"
     ]
    },
    {
     "data": {
      "text/plain": [
       "0    8.022599\n",
       "1    7.581921\n",
       "2    7.141243\n",
       "3    6.700565\n",
       "4    6.259887\n",
       "5    6.480226\n",
       "6    5.378531\n",
       "7    4.937853\n",
       "8    4.497175\n",
       "dtype: float64"
      ]
     },
     "execution_count": 1,
     "metadata": {},
     "output_type": "execute_result"
    }
   ],
   "source": [
    "from pandas import DataFrame\n",
    "import statsmodels.api as sm\n",
    "import numpy as np\n",
    "\n",
    "data = {\n",
    "        'month': [12,11,10,9,8,7,6,5,4],\n",
    "        'free_time': [120,110,100,90,80,85,60,50,40],\n",
    "        'num_videos': [8,8,7,6,6,7,6,4,5]\n",
    "        }\n",
    "\n",
    "df = DataFrame(data, columns=['month','free_time', 'num_videos']) \n",
    "\n",
    "X = df[['free_time']] \n",
    "Y = df['num_videos']\n",
    "X = sm.add_constant(X) \n",
    "\n",
    "model = sm.OLS(Y, X).fit()\n",
    "predictions = model.predict(X) \n",
    "\n",
    "print_model = model.summary()\n",
    "print(print_model)\n",
    "predictions"
   ]
  },
  {
   "cell_type": "markdown",
   "metadata": {},
   "source": [
    "<hr style=\"border: .5px solid gray\">\n",
    "\n",
    "<img src=\"3.png\" style=\"margin:10px\">\n",
    "<br>\n",
    "<img src=\"4.jpg\" style=\"margin:10px; width:550px\">\n",
    "<br>\n",
    "<img src=\"5.png\" style=\"margin:10px\">"
   ]
  },
  {
   "cell_type": "code",
   "execution_count": 2,
   "metadata": {},
   "outputs": [
    {
     "name": "stdout",
     "output_type": "stream",
     "text": [
      "MSE:0.28248587570621464\n",
      "RMSE:0.5314940034527338\n",
      "MSLE:0.007041391001511214\n",
      "RMSLE:0.08391299661858831\n",
      "MAE:0.45825486503452534\n"
     ]
    }
   ],
   "source": [
    "from sklearn.metrics import mean_squared_error, mean_squared_log_error, mean_absolute_error\n",
    "print(\"MSE:\"+str(mean_squared_error(predictions, Y)))\n",
    "print(\"RMSE:\"+str(np.sqrt(mean_squared_error(predictions, Y))))\n",
    "print(\"MSLE:\"+str(mean_squared_log_error(predictions, Y)))\n",
    "print(\"RMSLE:\"+str(np.sqrt(mean_squared_log_error(predictions, Y))))\n",
    "print(\"MAE:\"+str(mean_absolute_error(predictions, Y)))"
   ]
  }
 ],
 "metadata": {
  "kernelspec": {
   "display_name": "Python 3",
   "language": "python",
   "name": "python3"
  },
  "language_info": {
   "codemirror_mode": {
    "name": "ipython",
    "version": 3
   },
   "file_extension": ".py",
   "mimetype": "text/x-python",
   "name": "python",
   "nbconvert_exporter": "python",
   "pygments_lexer": "ipython3",
   "version": "3.6.5"
  }
 },
 "nbformat": 4,
 "nbformat_minor": 2
}
